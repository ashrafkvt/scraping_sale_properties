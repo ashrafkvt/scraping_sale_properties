{
  "nbformat": 4,
  "nbformat_minor": 0,
  "metadata": {
    "colab": {
      "name": "scraping_sale_properties.ipynb",
      "provenance": [],
      "collapsed_sections": [],
      "authorship_tag": "ABX9TyMk/M0WgtdYyvnI+NN+L8FB",
      "include_colab_link": true
    },
    "kernelspec": {
      "name": "python3",
      "display_name": "Python 3"
    },
    "language_info": {
      "name": "python"
    }
  },
  "cells": [
    {
      "cell_type": "markdown",
      "metadata": {
        "id": "view-in-github",
        "colab_type": "text"
      },
      "source": [
        "<a href=\"https://colab.research.google.com/github/ashrafkvt/scraping_sale_properties/blob/main/scraping_sale_properties.ipynb\" target=\"_parent\"><img src=\"https://colab.research.google.com/assets/colab-badge.svg\" alt=\"Open In Colab\"/></a>"
      ]
    },
    {
      "cell_type": "code",
      "execution_count": 44,
      "metadata": {
        "id": "lCs-NezzDWKC",
        "colab": {
          "base_uri": "https://localhost:8080/"
        },
        "outputId": "9aa5e4d5-ef27-470d-e078-8ddc687d96eb"
      },
      "outputs": [
        {
          "output_type": "stream",
          "name": "stdout",
          "text": [
            "8 $425,000\n",
            "8 $375,000\n",
            "7 $95,000\n",
            "8 $750,000\n",
            "7 $85,000\n"
          ]
        }
      ],
      "source": [
        "import requests\n",
        "from bs4 import BeautifulSoup\n",
        "\n",
        "request = requests.get(\"https://www.century21.com/real-estate/rock-springs-wy/LCWYROCKSPRINGS/?k=1\")\n",
        "content = request.content\n",
        "soup = BeautifulSoup(content, \"html.parser\")\n",
        "# print(soup.prettify())\n",
        "\n",
        "all = soup.find_all(\"div\", {\"class\":\"property-card\"})\n",
        "for item in all:\n",
        "  price_tag = item.find(\"a\", {\"class\":\"listing-price\"})\n",
        "  res = price_tag.text.replace(\"\\n\", \"\").replace(\" \", \"\")\n",
        "  print(len(res), end=\"\")\n",
        "  print(f\" {res}\")\n",
        "\n",
        "  \n"
      ]
    }
  ]
}
{
  "nbformat": 4,
  "nbformat_minor": 0,
  "metadata": {
    "colab": {
      "name": "scraping_sale_properties.ipynb",
      "provenance": [],
      "collapsed_sections": [],
      "authorship_tag": "ABX9TyOiMrJita7CJ/yUeRKE25If",
      "include_colab_link": true
    },
    "kernelspec": {
      "name": "python3",
      "display_name": "Python 3"
    },
    "language_info": {
      "name": "python"
    }
  },
  "cells": [
    {
      "cell_type": "markdown",
      "metadata": {
        "id": "view-in-github",
        "colab_type": "text"
      },
      "source": [
        "<a href=\"https://colab.research.google.com/github/ashrafkvt/scraping_sale_properties/blob/main/scraping_sale_properties.ipynb\" target=\"_parent\"><img src=\"https://colab.research.google.com/assets/colab-badge.svg\" alt=\"Open In Colab\"/></a>"
      ]
    },
    {
      "cell_type": "code",
      "execution_count": 3,
      "metadata": {
        "id": "lCs-NezzDWKC"
      },
      "outputs": [],
      "source": [
        "import requests\n",
        "from bs4 import BeautifulSoup\n",
        "\n",
        "request = requests.get(\"https://www.century21.com/real-estate/rock-springs-wy/LCWYROCKSPRINGS/?k=1\")\n",
        "content = request.content\n",
        "soup = BeautifulSoup(content, \"html.parser\")\n",
        "# print(soup.prettify())\n",
        "\n",
        "all = soup.find_all(\"div\", {\"class\":\"property-card\"})\n",
        "\n",
        "\n",
        "  \n"
      ]
    },
    {
      "cell_type": "code",
      "source": [
        "for item in all:\n",
        "  price_tag = item.find(\"a\", {\"class\":\"listing-price\"})\n",
        "\n",
        "  property_price = price_tag.text.replace(\"\\n\", \"\").replace(\" \", \"\")\n",
        "  print(property_price)\n",
        "\n",
        "  property_address = item.find(\"div\", {\"class\":\"property-address\"}).text.replace(\"\\n\", \"\").replace(\" \", \"\")\n",
        "  print(property_address)\n",
        "\n",
        "  property_city = item.find(\"div\", {\"class\":\"property-city\"}).text.replace(\"\\n\", \"\").replace(\" \", \"\")\n",
        "  print(property_city)\n",
        "\n",
        "  try:\n",
        "    property_number_of_beds = item.find(\"div\", {\"class\":\"property-beds\"}).find(\"strong\").text\n",
        "    print(property_number_of_beds)\n",
        "  except:\n",
        "    print(None)\n",
        "  \n",
        "  try:\n",
        "    property_number_of_baths = item.find(\"div\", {\"class\":\"property-baths\"}).find(\"strong\").text\n",
        "    print(property_number_of_baths)\n",
        "  except:\n",
        "    print(None)\n",
        "  \n",
        "  print()"
      ],
      "metadata": {
        "colab": {
          "base_uri": "https://localhost:8080/"
        },
        "id": "Uj58V0gT58dn",
        "outputId": "be97b6b7-b986-4784-bd1e-56e0028bc0a0"
      },
      "execution_count": 46,
      "outputs": [
        {
          "output_type": "stream",
          "name": "stdout",
          "text": [
            "$425,000\n",
            "597Washakie\n",
            "RockSpringsWY82901\n",
            "4\n",
            "None\n",
            "\n",
            "$375,000\n",
            "331ViaAssisi\n",
            "RockSpringsWY82901\n",
            "4\n",
            "3\n",
            "\n",
            "$95,000\n",
            "210MStreet\n",
            "RockSpringsWY82901\n",
            "3\n",
            "2\n",
            "\n",
            "$750,000\n",
            "0Lombard\n",
            "RockSpringsWY82901\n",
            "None\n",
            "None\n",
            "\n",
            "$85,000\n",
            "121311thStreet\n",
            "RockSpringsWY82901\n",
            "1\n",
            "None\n",
            "\n"
          ]
        }
      ]
    }
  ]
}
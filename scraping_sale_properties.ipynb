{
  "nbformat": 4,
  "nbformat_minor": 0,
  "metadata": {
    "colab": {
      "name": "scraping_sale_properties.ipynb",
      "provenance": [],
      "collapsed_sections": [],
      "authorship_tag": "ABX9TyM6sgfE8UlFUTTaeCVAMJNK",
      "include_colab_link": true
    },
    "kernelspec": {
      "name": "python3",
      "display_name": "Python 3"
    },
    "language_info": {
      "name": "python"
    }
  },
  "cells": [
    {
      "cell_type": "markdown",
      "metadata": {
        "id": "view-in-github",
        "colab_type": "text"
      },
      "source": [
        "<a href=\"https://colab.research.google.com/github/ashrafkvt/scraping_sale_properties/blob/main/scraping_sale_properties.ipynb\" target=\"_parent\"><img src=\"https://colab.research.google.com/assets/colab-badge.svg\" alt=\"Open In Colab\"/></a>"
      ]
    },
    {
      "cell_type": "code",
      "execution_count": null,
      "metadata": {
        "id": "lCs-NezzDWKC"
      },
      "outputs": [],
      "source": [
        "import requests\n",
        "from bs4 import BeautifulSoup"
      ]
    },
    {
      "cell_type": "code",
      "source": [
        "request = requests.get(\"https://www.century21.com/real-estate/rock-springs-wy/LCWYROCKSPRINGS/?k=1\")\n",
        "content = request.content"
      ],
      "metadata": {
        "id": "6ExJfWIuGSzi"
      },
      "execution_count": 13,
      "outputs": []
    },
    {
      "cell_type": "code",
      "source": [
        "soup = BeautifulSoup(content, \"html.parser\")\n",
        "# print(soup.prettify())"
      ],
      "metadata": {
        "id": "iQtDsyBWDn4-"
      },
      "execution_count": 12,
      "outputs": []
    }
  ]
}
{
  "nbformat": 4,
  "nbformat_minor": 0,
  "metadata": {
    "colab": {
      "name": "scraping_sale_properties.ipynb",
      "provenance": [],
      "collapsed_sections": [],
      "authorship_tag": "ABX9TyNlBxbty05Pi7b+qShynYK/",
      "include_colab_link": true
    },
    "kernelspec": {
      "name": "python3",
      "display_name": "Python 3"
    },
    "language_info": {
      "name": "python"
    }
  },
  "cells": [
    {
      "cell_type": "markdown",
      "metadata": {
        "id": "view-in-github",
        "colab_type": "text"
      },
      "source": [
        "<a href=\"https://colab.research.google.com/github/ashrafkvt/scraping_sale_properties/blob/main/scraping_sale_properties.ipynb\" target=\"_parent\"><img src=\"https://colab.research.google.com/assets/colab-badge.svg\" alt=\"Open In Colab\"/></a>"
      ]
    },
    {
      "cell_type": "code",
      "execution_count": null,
      "metadata": {
        "id": "lCs-NezzDWKC"
      },
      "outputs": [],
      "source": [
        "import requests\n",
        "from bs4 import BeautifulSoup\n",
        "\n",
        "request = requests.get(\"https://www.century21.com/real-estate/rock-springs-wy/LCWYROCKSPRINGS/?k=1\")\n",
        "content = request.content\n",
        "soup = BeautifulSoup(content, \"html.parser\")\n",
        "# print(soup.prettify())\n",
        "\n",
        "all = soup.find_all(\"div\", {\"class\":\"property-card\"})\n",
        "\n",
        "\n",
        "  \n"
      ]
    },
    {
      "cell_type": "code",
      "source": [
        "properties_list = []\n",
        "for item in all:\n",
        "  dict = {}\n",
        "\n",
        "  property_address = item.find(\"div\", {\"class\":\"property-address\"}).text.replace(\"\\n\", \"\")\n",
        "  dict[\"address\"] = property_address\n",
        "\n",
        "  try:\n",
        "    property_number_of_beds = item.find(\"div\", {\"class\":\"property-beds\"}).find(\"strong\").text\n",
        "    dict[\"number_of_beds\"] = property_number_of_beds\n",
        "  except:\n",
        "    dict[\"number_of_beds\"] = None  \n",
        "\n",
        "  try:\n",
        "    property_number_of_baths = item.find(\"div\", {\"class\":\"property-baths\"}).find(\"strong\").text\n",
        "    dict[\"number_of_baths\"] = property_number_of_baths\n",
        "  except:\n",
        "    dict[\"number_of_baths\"] = None\n",
        "\n",
        "  property_city = item.find(\"div\", {\"class\":\"property-city\"}).text.replace(\"\\n\", \"\")\n",
        "  dict[\"locality\"] = property_city\n",
        "\n",
        "  price_tag = item.find(\"a\", {\"class\":\"listing-price\"})\n",
        "\n",
        "  property_price = price_tag.text.replace(\"\\n\", \"\").replace(\" \", \"\")\n",
        "  dict[\"price\"] = property_price\n",
        "\n",
        "\n",
        "\n",
        "\n",
        "\n",
        "  properties_list.append(dict)\n",
        "  "
      ],
      "metadata": {
        "id": "Uj58V0gT58dn"
      },
      "execution_count": null,
      "outputs": []
    },
    {
      "cell_type": "code",
      "source": [
        "len(properties_list)"
      ],
      "metadata": {
        "colab": {
          "base_uri": "https://localhost:8080/"
        },
        "id": "9VosWBPsheDe",
        "outputId": "806ba74a-b510-451e-91f7-82b754efb361"
      },
      "execution_count": null,
      "outputs": [
        {
          "output_type": "execute_result",
          "data": {
            "text/plain": [
              "5"
            ]
          },
          "metadata": {},
          "execution_count": 19
        }
      ]
    },
    {
      "cell_type": "code",
      "source": [
        "import pandas as pd\n",
        "import numpy as np\n",
        "\n",
        "df = pd.DataFrame(properties_list)\n",
        "df.to_csv(\"properties_list.csv\")"
      ],
      "metadata": {
        "id": "mYQh4Be3jCz1"
      },
      "execution_count": 23,
      "outputs": []
    }
  ]
}
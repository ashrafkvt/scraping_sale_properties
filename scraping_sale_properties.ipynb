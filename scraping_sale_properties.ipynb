{
  "nbformat": 4,
  "nbformat_minor": 0,
  "metadata": {
    "colab": {
      "name": "scraping_sale_properties.ipynb",
      "provenance": [],
      "collapsed_sections": [],
      "authorship_tag": "ABX9TyPsvJxy+HE0nh3ExqyXdAa3",
      "include_colab_link": true
    },
    "kernelspec": {
      "name": "python3",
      "display_name": "Python 3"
    },
    "language_info": {
      "name": "python"
    }
  },
  "cells": [
    {
      "cell_type": "markdown",
      "metadata": {
        "id": "view-in-github",
        "colab_type": "text"
      },
      "source": [
        "<a href=\"https://colab.research.google.com/github/ashrafkvt/scraping_sale_properties/blob/main/scraping_sale_properties.ipynb\" target=\"_parent\"><img src=\"https://colab.research.google.com/assets/colab-badge.svg\" alt=\"Open In Colab\"/></a>"
      ]
    },
    {
      "cell_type": "code",
      "execution_count": 2,
      "metadata": {
        "id": "lCs-NezzDWKC"
      },
      "outputs": [],
      "source": [
        "import requests\n",
        "from bs4 import BeautifulSoup\n",
        "\n",
        "request = requests.get(\"https://www.century21.com/real-estate/rock-springs-wy/LCWYROCKSPRINGS/?k=1\")\n",
        "content = request.content\n",
        "soup = BeautifulSoup(content, \"html.parser\")\n",
        "# print(soup.prettify())\n",
        "\n",
        "all = soup.find_all(\"div\", {\"class\":\"property-card\"})\n",
        "\n",
        "\n",
        "  \n"
      ]
    },
    {
      "cell_type": "code",
      "source": [
        "properties_list = []\n",
        "for item in all:\n",
        "  dict = {}\n",
        "\n",
        "  property_address = item.find(\"div\", {\"class\":\"property-address\"}).text.replace(\"\\n\", \"\")\n",
        "  dict[\"address\"] = property_address\n",
        "\n",
        "  try:\n",
        "    property_number_of_beds = item.find(\"div\", {\"class\":\"property-beds\"}).find(\"strong\").text\n",
        "    dict[\"number_of_beds\"] = property_number_of_beds\n",
        "  except:\n",
        "    dict[\"number_of_beds\"] = None  \n",
        "\n",
        "  try:\n",
        "    property_number_of_baths = item.find(\"div\", {\"class\":\"property-baths\"}).find(\"strong\").text\n",
        "    dict[\"number_of_baths\"] = property_number_of_baths\n",
        "  except:\n",
        "    dict[\"number_of_baths\"] = None\n",
        "\n",
        "  property_city = item.find(\"div\", {\"class\":\"property-city\"}).text.replace(\"\\n\", \"\")\n",
        "  dict[\"locality\"] = property_city\n",
        "\n",
        "  price_tag = item.find(\"a\", {\"class\":\"listing-price\"})\n",
        "\n",
        "  property_price = price_tag.text.replace(\"\\n\", \"\").replace(\" \", \"\")\n",
        "  dict[\"price\"] = property_price\n",
        "\n",
        "\n",
        "\n",
        "\n",
        "\n",
        "  properties_list.append(dict)\n",
        "  "
      ],
      "metadata": {
        "id": "Uj58V0gT58dn"
      },
      "execution_count": 3,
      "outputs": []
    },
    {
      "cell_type": "code",
      "source": [
        "len(properties_list)"
      ],
      "metadata": {
        "colab": {
          "base_uri": "https://localhost:8080/"
        },
        "id": "9VosWBPsheDe",
        "outputId": "1212ae5c-0df2-4b69-9156-badf567c513a"
      },
      "execution_count": 5,
      "outputs": [
        {
          "output_type": "execute_result",
          "data": {
            "text/plain": [
              "5"
            ]
          },
          "metadata": {},
          "execution_count": 5
        }
      ]
    },
    {
      "cell_type": "code",
      "source": [
        "import pandas as pd\n",
        "import numpy as np\n",
        "\n",
        "df = pd.DataFrame(properties_list)\n",
        "df"
      ],
      "metadata": {
        "colab": {
          "base_uri": "https://localhost:8080/",
          "height": 206
        },
        "id": "mYQh4Be3jCz1",
        "outputId": "5b6f9b53-b9fa-416d-8adc-dfade2dc5d9b"
      },
      "execution_count": 16,
      "outputs": [
        {
          "output_type": "execute_result",
          "data": {
            "text/plain": [
              "                                       address number_of_beds number_of_baths  \\\n",
              "0                     597 Washakie                          4            None   \n",
              "1                   331 Via Assisi                          4               3   \n",
              "2                     210 M Street                          3               2   \n",
              "3                        0 Lombard                       None            None   \n",
              "4                 1213 11th Street                          1            None   \n",
              "\n",
              "                                     locality     price  \n",
              "0              Rock Springs WY 82901           $425,000  \n",
              "1              Rock Springs WY 82901           $375,000  \n",
              "2              Rock Springs WY 82901            $95,000  \n",
              "3              Rock Springs WY 82901           $750,000  \n",
              "4              Rock Springs WY 82901            $85,000  "
            ],
            "text/html": [
              "\n",
              "  <div id=\"df-25bd4c37-4682-456f-8bb5-7d4416fb0bd9\">\n",
              "    <div class=\"colab-df-container\">\n",
              "      <div>\n",
              "<style scoped>\n",
              "    .dataframe tbody tr th:only-of-type {\n",
              "        vertical-align: middle;\n",
              "    }\n",
              "\n",
              "    .dataframe tbody tr th {\n",
              "        vertical-align: top;\n",
              "    }\n",
              "\n",
              "    .dataframe thead th {\n",
              "        text-align: right;\n",
              "    }\n",
              "</style>\n",
              "<table border=\"1\" class=\"dataframe\">\n",
              "  <thead>\n",
              "    <tr style=\"text-align: right;\">\n",
              "      <th></th>\n",
              "      <th>address</th>\n",
              "      <th>number_of_beds</th>\n",
              "      <th>number_of_baths</th>\n",
              "      <th>locality</th>\n",
              "      <th>price</th>\n",
              "    </tr>\n",
              "  </thead>\n",
              "  <tbody>\n",
              "    <tr>\n",
              "      <th>0</th>\n",
              "      <td>597 Washakie</td>\n",
              "      <td>4</td>\n",
              "      <td>None</td>\n",
              "      <td>Rock Springs WY 82901</td>\n",
              "      <td>$425,000</td>\n",
              "    </tr>\n",
              "    <tr>\n",
              "      <th>1</th>\n",
              "      <td>331 Via Assisi</td>\n",
              "      <td>4</td>\n",
              "      <td>3</td>\n",
              "      <td>Rock Springs WY 82901</td>\n",
              "      <td>$375,000</td>\n",
              "    </tr>\n",
              "    <tr>\n",
              "      <th>2</th>\n",
              "      <td>210 M Street</td>\n",
              "      <td>3</td>\n",
              "      <td>2</td>\n",
              "      <td>Rock Springs WY 82901</td>\n",
              "      <td>$95,000</td>\n",
              "    </tr>\n",
              "    <tr>\n",
              "      <th>3</th>\n",
              "      <td>0 Lombard</td>\n",
              "      <td>None</td>\n",
              "      <td>None</td>\n",
              "      <td>Rock Springs WY 82901</td>\n",
              "      <td>$750,000</td>\n",
              "    </tr>\n",
              "    <tr>\n",
              "      <th>4</th>\n",
              "      <td>1213 11th Street</td>\n",
              "      <td>1</td>\n",
              "      <td>None</td>\n",
              "      <td>Rock Springs WY 82901</td>\n",
              "      <td>$85,000</td>\n",
              "    </tr>\n",
              "  </tbody>\n",
              "</table>\n",
              "</div>\n",
              "      <button class=\"colab-df-convert\" onclick=\"convertToInteractive('df-25bd4c37-4682-456f-8bb5-7d4416fb0bd9')\"\n",
              "              title=\"Convert this dataframe to an interactive table.\"\n",
              "              style=\"display:none;\">\n",
              "        \n",
              "  <svg xmlns=\"http://www.w3.org/2000/svg\" height=\"24px\"viewBox=\"0 0 24 24\"\n",
              "       width=\"24px\">\n",
              "    <path d=\"M0 0h24v24H0V0z\" fill=\"none\"/>\n",
              "    <path d=\"M18.56 5.44l.94 2.06.94-2.06 2.06-.94-2.06-.94-.94-2.06-.94 2.06-2.06.94zm-11 1L8.5 8.5l.94-2.06 2.06-.94-2.06-.94L8.5 2.5l-.94 2.06-2.06.94zm10 10l.94 2.06.94-2.06 2.06-.94-2.06-.94-.94-2.06-.94 2.06-2.06.94z\"/><path d=\"M17.41 7.96l-1.37-1.37c-.4-.4-.92-.59-1.43-.59-.52 0-1.04.2-1.43.59L10.3 9.45l-7.72 7.72c-.78.78-.78 2.05 0 2.83L4 21.41c.39.39.9.59 1.41.59.51 0 1.02-.2 1.41-.59l7.78-7.78 2.81-2.81c.8-.78.8-2.07 0-2.86zM5.41 20L4 18.59l7.72-7.72 1.47 1.35L5.41 20z\"/>\n",
              "  </svg>\n",
              "      </button>\n",
              "      \n",
              "  <style>\n",
              "    .colab-df-container {\n",
              "      display:flex;\n",
              "      flex-wrap:wrap;\n",
              "      gap: 12px;\n",
              "    }\n",
              "\n",
              "    .colab-df-convert {\n",
              "      background-color: #E8F0FE;\n",
              "      border: none;\n",
              "      border-radius: 50%;\n",
              "      cursor: pointer;\n",
              "      display: none;\n",
              "      fill: #1967D2;\n",
              "      height: 32px;\n",
              "      padding: 0 0 0 0;\n",
              "      width: 32px;\n",
              "    }\n",
              "\n",
              "    .colab-df-convert:hover {\n",
              "      background-color: #E2EBFA;\n",
              "      box-shadow: 0px 1px 2px rgba(60, 64, 67, 0.3), 0px 1px 3px 1px rgba(60, 64, 67, 0.15);\n",
              "      fill: #174EA6;\n",
              "    }\n",
              "\n",
              "    [theme=dark] .colab-df-convert {\n",
              "      background-color: #3B4455;\n",
              "      fill: #D2E3FC;\n",
              "    }\n",
              "\n",
              "    [theme=dark] .colab-df-convert:hover {\n",
              "      background-color: #434B5C;\n",
              "      box-shadow: 0px 1px 3px 1px rgba(0, 0, 0, 0.15);\n",
              "      filter: drop-shadow(0px 1px 2px rgba(0, 0, 0, 0.3));\n",
              "      fill: #FFFFFF;\n",
              "    }\n",
              "  </style>\n",
              "\n",
              "      <script>\n",
              "        const buttonEl =\n",
              "          document.querySelector('#df-25bd4c37-4682-456f-8bb5-7d4416fb0bd9 button.colab-df-convert');\n",
              "        buttonEl.style.display =\n",
              "          google.colab.kernel.accessAllowed ? 'block' : 'none';\n",
              "\n",
              "        async function convertToInteractive(key) {\n",
              "          const element = document.querySelector('#df-25bd4c37-4682-456f-8bb5-7d4416fb0bd9');\n",
              "          const dataTable =\n",
              "            await google.colab.kernel.invokeFunction('convertToInteractive',\n",
              "                                                     [key], {});\n",
              "          if (!dataTable) return;\n",
              "\n",
              "          const docLinkHtml = 'Like what you see? Visit the ' +\n",
              "            '<a target=\"_blank\" href=https://colab.research.google.com/notebooks/data_table.ipynb>data table notebook</a>'\n",
              "            + ' to learn more about interactive tables.';\n",
              "          element.innerHTML = '';\n",
              "          dataTable['output_type'] = 'display_data';\n",
              "          await google.colab.output.renderOutput(dataTable, element);\n",
              "          const docLink = document.createElement('div');\n",
              "          docLink.innerHTML = docLinkHtml;\n",
              "          element.appendChild(docLink);\n",
              "        }\n",
              "      </script>\n",
              "    </div>\n",
              "  </div>\n",
              "  "
            ]
          },
          "metadata": {},
          "execution_count": 16
        }
      ]
    }
  ]
}